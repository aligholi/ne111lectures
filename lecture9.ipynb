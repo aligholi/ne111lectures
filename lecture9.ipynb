{
 "metadata": {
  "name": ""
 },
 "nbformat": 3,
 "nbformat_minor": 0,
 "worksheets": [
  {
   "cells": [
    {
     "cell_type": "markdown",
     "metadata": {},
     "source": [
      "##Lecture 9\n",
      "\n",
      "The objectives of this lecture are to:\n",
      "\n",
      "1. Organizing your code -- the Python `module`.\n",
      "2. Designing and creating a module."
     ]
    },
    {
     "cell_type": "markdown",
     "metadata": {},
     "source": [
      "# The Python `module`\n",
      "\n",
      "A *module* in Python is similar to a library in other programming languages. It groups together variables and functions that have some organizational relationship with intent of them being reused in multiple programs. There are literally thousands of Python modules and many more provide Python \"wrappers\" to FORTRAN, C, and C++ code.\n",
      "\n",
      "In this section you will learn how to use built-in modules starting with the `math` modules.\n",
      "\n",
      "### Importing modules\n",
      "\n",
      "In order to access variables and functions in a module you must first *import* it. There are multiple ways of doing this which differ in which namespace the variable and function references will be placed. In the most simple approach an `import` statement results in the creation of a new namespace for the module with a reference to the namespace in the top-level one,"
     ]
    },
    {
     "cell_type": "code",
     "collapsed": false,
     "input": [
      "import math\n",
      "\n",
      "type(math)"
     ],
     "language": "python",
     "metadata": {},
     "outputs": [
      {
       "metadata": {},
       "output_type": "pyout",
       "prompt_number": 1,
       "text": [
        "builtins.module"
       ]
      }
     ],
     "prompt_number": 1
    },
    {
     "cell_type": "markdown",
     "metadata": {},
     "source": [
      "A module is an object like everything else in Python! Like a function, you may access the module documentation using `help()`,"
     ]
    },
    {
     "cell_type": "code",
     "collapsed": false,
     "input": [
      "help(math)"
     ],
     "language": "python",
     "metadata": {},
     "outputs": [
      {
       "output_type": "stream",
       "stream": "stdout",
       "text": [
        "Help on built-in module math:\n",
        "\n",
        "NAME\n",
        "    math\n",
        "\n",
        "DESCRIPTION\n",
        "    This module is always available.  It provides access to the\n",
        "    mathematical functions defined by the C standard.\n",
        "\n",
        "FUNCTIONS\n",
        "    acos(...)\n",
        "        acos(x)\n",
        "        \n",
        "        Return the arc cosine (measured in radians) of x.\n",
        "    \n",
        "    acosh(...)\n",
        "        acosh(x)\n",
        "        \n",
        "        Return the hyperbolic arc cosine (measured in radians) of x.\n",
        "    \n",
        "    asin(...)\n",
        "        asin(x)\n",
        "        \n",
        "        Return the arc sine (measured in radians) of x.\n",
        "    \n",
        "    asinh(...)\n",
        "        asinh(x)\n",
        "        \n",
        "        Return the hyperbolic arc sine (measured in radians) of x.\n",
        "    \n",
        "    atan(...)\n",
        "        atan(x)\n",
        "        \n",
        "        Return the arc tangent (measured in radians) of x.\n",
        "    \n",
        "    atan2(...)\n",
        "        atan2(y, x)\n",
        "        \n",
        "        Return the arc tangent (measured in radians) of y/x.\n",
        "        Unlike atan(y/x), the signs of both x and y are considered.\n",
        "    \n",
        "    atanh(...)\n",
        "        atanh(x)\n",
        "        \n",
        "        Return the hyperbolic arc tangent (measured in radians) of x.\n",
        "    \n",
        "    ceil(...)\n",
        "        ceil(x)\n",
        "        \n",
        "        Return the ceiling of x as an int.\n",
        "        This is the smallest integral value >= x.\n",
        "    \n",
        "    copysign(...)\n",
        "        copysign(x, y)\n",
        "        \n",
        "        Return a float with the magnitude (absolute value) of x but the sign \n",
        "        of y. On platforms that support signed zeros, copysign(1.0, -0.0) \n",
        "        returns -1.0.\n",
        "    \n",
        "    cos(...)\n",
        "        cos(x)\n",
        "        \n",
        "        Return the cosine of x (measured in radians).\n",
        "    \n",
        "    cosh(...)\n",
        "        cosh(x)\n",
        "        \n",
        "        Return the hyperbolic cosine of x.\n",
        "    \n",
        "    degrees(...)\n",
        "        degrees(x)\n",
        "        \n",
        "        Convert angle x from radians to degrees.\n",
        "    \n",
        "    erf(...)\n",
        "        erf(x)\n",
        "        \n",
        "        Error function at x.\n",
        "    \n",
        "    erfc(...)\n",
        "        erfc(x)\n",
        "        \n",
        "        Complementary error function at x.\n",
        "    \n",
        "    exp(...)\n",
        "        exp(x)\n",
        "        \n",
        "        Return e raised to the power of x.\n",
        "    \n",
        "    expm1(...)\n",
        "        expm1(x)\n",
        "        \n",
        "        Return exp(x)-1.\n",
        "        This function avoids the loss of precision involved in the direct evaluation of exp(x)-1 for small x.\n",
        "    \n",
        "    fabs(...)\n",
        "        fabs(x)\n",
        "        \n",
        "        Return the absolute value of the float x.\n",
        "    \n",
        "    factorial(...)\n",
        "        factorial(x) -> Integral\n",
        "        \n",
        "        Find x!. Raise a ValueError if x is negative or non-integral.\n",
        "    \n",
        "    floor(...)\n",
        "        floor(x)\n",
        "        \n",
        "        Return the floor of x as an int.\n",
        "        This is the largest integral value <= x.\n",
        "    \n",
        "    fmod(...)\n",
        "        fmod(x, y)\n",
        "        \n",
        "        Return fmod(x, y), according to platform C.  x % y may differ.\n",
        "    \n",
        "    frexp(...)\n",
        "        frexp(x)\n",
        "        \n",
        "        Return the mantissa and exponent of x, as pair (m, e).\n",
        "        m is a float and e is an int, such that x = m * 2.**e.\n",
        "        If x is 0, m and e are both 0.  Else 0.5 <= abs(m) < 1.0.\n",
        "    \n",
        "    fsum(...)\n",
        "        fsum(iterable)\n",
        "        \n",
        "        Return an accurate floating point sum of values in the iterable.\n",
        "        Assumes IEEE-754 floating point arithmetic.\n",
        "    \n",
        "    gamma(...)\n",
        "        gamma(x)\n",
        "        \n",
        "        Gamma function at x.\n",
        "    \n",
        "    hypot(...)\n",
        "        hypot(x, y)\n",
        "        \n",
        "        Return the Euclidean distance, sqrt(x*x + y*y).\n",
        "    \n",
        "    isfinite(...)\n",
        "        isfinite(x) -> bool\n",
        "        \n",
        "        Return True if x is neither an infinity nor a NaN, and False otherwise.\n",
        "    \n",
        "    isinf(...)\n",
        "        isinf(x) -> bool\n",
        "        \n",
        "        Return True if x is a positive or negative infinity, and False otherwise.\n",
        "    \n",
        "    isnan(...)\n",
        "        isnan(x) -> bool\n",
        "        \n",
        "        Return True if x is a NaN (not a number), and False otherwise.\n",
        "    \n",
        "    ldexp(...)\n",
        "        ldexp(x, i)\n",
        "        \n",
        "        Return x * (2**i).\n",
        "    \n",
        "    lgamma(...)\n",
        "        lgamma(x)\n",
        "        \n",
        "        Natural logarithm of absolute value of Gamma function at x.\n",
        "    \n",
        "    log(...)\n",
        "        log(x[, base])\n",
        "        \n",
        "        Return the logarithm of x to the given base.\n",
        "        If the base not specified, returns the natural logarithm (base e) of x.\n",
        "    \n",
        "    log10(...)\n",
        "        log10(x)\n",
        "        \n",
        "        Return the base 10 logarithm of x.\n",
        "    \n",
        "    log1p(...)\n",
        "        log1p(x)\n",
        "        \n",
        "        Return the natural logarithm of 1+x (base e).\n",
        "        The result is computed in a way which is accurate for x near zero.\n",
        "    \n",
        "    log2(...)\n",
        "        log2(x)\n",
        "        \n",
        "        Return the base 2 logarithm of x.\n",
        "    \n",
        "    modf(...)\n",
        "        modf(x)\n",
        "        \n",
        "        Return the fractional and integer parts of x.  Both results carry the sign\n",
        "        of x and are floats.\n",
        "    \n",
        "    pow(...)\n",
        "        pow(x, y)\n",
        "        \n",
        "        Return x**y (x to the power of y).\n",
        "    \n",
        "    radians(...)\n",
        "        radians(x)\n",
        "        \n",
        "        Convert angle x from degrees to radians.\n",
        "    \n",
        "    sin(...)\n",
        "        sin(x)\n",
        "        \n",
        "        Return the sine of x (measured in radians).\n",
        "    \n",
        "    sinh(...)\n",
        "        sinh(x)\n",
        "        \n",
        "        Return the hyperbolic sine of x.\n",
        "    \n",
        "    sqrt(...)\n",
        "        sqrt(x)\n",
        "        \n",
        "        Return the square root of x.\n",
        "    \n",
        "    tan(...)\n",
        "        tan(x)\n",
        "        \n",
        "        Return the tangent of x (measured in radians).\n",
        "    \n",
        "    tanh(...)\n",
        "        tanh(x)\n",
        "        \n",
        "        Return the hyperbolic tangent of x.\n",
        "    \n",
        "    trunc(...)\n",
        "        trunc(x:Real) -> Integral\n",
        "        \n",
        "        Truncates x to the nearest Integral toward 0. Uses the __trunc__ magic method.\n",
        "\n",
        "DATA\n",
        "    e = 2.718281828459045\n",
        "    pi = 3.141592653589793\n",
        "\n",
        "FILE\n",
        "    (built-in)\n",
        "\n",
        "\n"
       ]
      }
     ],
     "prompt_number": 2
    },
    {
     "cell_type": "markdown",
     "metadata": {},
     "source": [
      "the module documentation shows that many mathematical functions are contained in the module, along with a few special constants. If we use our memory model (its been a while!), the result of importing the module is represented graphically as,\n",
      "\n",
      "<img src='files/./images/lecture3/pg105.jpg'>\n",
      "\n",
      "In order to access the functions and variables in the `math` module's namespace, we need to introduce a new operator (`.`),"
     ]
    },
    {
     "cell_type": "code",
     "collapsed": false,
     "input": [
      "# equivalent expressions\n",
      "math.sqrt(9.0)\n",
      "math . sqrt(9.0)\n",
      "math. sqrt(9.0)\n",
      "math .sqrt(9.0)"
     ],
     "language": "python",
     "metadata": {},
     "outputs": [
      {
       "metadata": {},
       "output_type": "pyout",
       "prompt_number": 3,
       "text": [
        "3.0"
       ]
      }
     ],
     "prompt_number": 3
    },
    {
     "cell_type": "markdown",
     "metadata": {},
     "source": [
      "It is best practice to leave no space in between the module and the variable/function to be accessed, unlike with other binary operators. We learned from the documentation that the `math` module has two variables defined: $\\pi$ and $e$,\n",
      "\n",
      "\n",
      "<img src='files/./images/lecture3/pg107.jpg'>"
     ]
    },
    {
     "cell_type": "code",
     "collapsed": false,
     "input": [
      "print(math.pi)\n",
      "print(math.e)"
     ],
     "language": "python",
     "metadata": {},
     "outputs": [
      {
       "output_type": "stream",
       "stream": "stdout",
       "text": [
        "3.141592653589793\n",
        "2.718281828459045\n"
       ]
      }
     ],
     "prompt_number": 4
    },
    {
     "cell_type": "markdown",
     "metadata": {},
     "source": [
      "We can use these variables like any other `float` as long as we instruct the interpreter to look in the `math` module namespace for them,"
     ]
    },
    {
     "cell_type": "code",
     "collapsed": false,
     "input": [
      "# the circumference of a circle of radius 1.0\n",
      "circumference = 2.0 * math.pi * 1.0\n",
      "print(circumference)"
     ],
     "language": "python",
     "metadata": {},
     "outputs": []
    },
    {
     "cell_type": "markdown",
     "metadata": {},
     "source": [
      "Just like any other variable, you may reassign the value of those contained in a module,"
     ]
    },
    {
     "cell_type": "code",
     "collapsed": false,
     "input": [
      "math.pi = 1.0\n",
      "\n",
      "circumference = 2.0 * math.pi * 1.0\n",
      "print(circumference)"
     ],
     "language": "python",
     "metadata": {},
     "outputs": [
      {
       "output_type": "stream",
       "stream": "stdout",
       "text": [
        "2.0\n"
       ]
      }
     ],
     "prompt_number": 5
    },
    {
     "cell_type": "markdown",
     "metadata": {},
     "source": [
      "While other languages allow you to specify constants, whose value cannot be modified, Python does not have such functionality. This is typically not a problem as long as you follow best practices...do not reassign the contents of a module! Here is an extreme case,"
     ]
    },
    {
     "cell_type": "code",
     "collapsed": false,
     "input": [
      "math.sqrt = 5\n",
      "\n",
      "math.sqrt(9.0)"
     ],
     "language": "python",
     "metadata": {},
     "outputs": [
      {
       "ename": "TypeError",
       "evalue": "'int' object is not callable",
       "output_type": "pyerr",
       "traceback": [
        "\u001b[0;31m---------------------------------------------------------------------------\u001b[0m\n\u001b[0;31mTypeError\u001b[0m                                 Traceback (most recent call last)",
        "\u001b[0;32m<ipython-input-6-9d62d546ffbe>\u001b[0m in \u001b[0;36m<module>\u001b[0;34m()\u001b[0m\n\u001b[1;32m      1\u001b[0m \u001b[0mmath\u001b[0m\u001b[0;34m.\u001b[0m\u001b[0msqrt\u001b[0m \u001b[0;34m=\u001b[0m \u001b[0;36m5\u001b[0m\u001b[0;34m\u001b[0m\u001b[0m\n\u001b[1;32m      2\u001b[0m \u001b[0;34m\u001b[0m\u001b[0m\n\u001b[0;32m----> 3\u001b[0;31m \u001b[0mmath\u001b[0m\u001b[0;34m.\u001b[0m\u001b[0msqrt\u001b[0m\u001b[0;34m(\u001b[0m\u001b[0;36m9.0\u001b[0m\u001b[0;34m)\u001b[0m\u001b[0;34m\u001b[0m\u001b[0m\n\u001b[0m",
        "\u001b[0;31mTypeError\u001b[0m: 'int' object is not callable"
       ]
      }
     ],
     "prompt_number": 6
    },
    {
     "cell_type": "markdown",
     "metadata": {},
     "source": [
      "There is a way of restoring a module to its original form, but this is typically not done to \"undo\" bad programming (as we see above). Instead this is done as part of the development process when making your own module. Instead of restarting the interpreter to test a change in your module's code, you can use the `imp.reload()` function.\n",
      "\n",
      "Using this knowledge let's restore the `math` module,"
     ]
    },
    {
     "cell_type": "code",
     "collapsed": false,
     "input": [
      "import imp\n",
      "math.pi = 2;\n",
      "print(math.pi)\n",
      "imp.reload(math)\n",
      "\n",
      "print(math.pi)\n",
      "print(math.sqrt(9.0))"
     ],
     "language": "python",
     "metadata": {},
     "outputs": [
      {
       "output_type": "stream",
       "stream": "stdout",
       "text": [
        "2\n",
        "3.141592653589793\n",
        "3.0\n"
       ]
      }
     ],
     "prompt_number": 8
    },
    {
     "cell_type": "markdown",
     "metadata": {},
     "source": [
      "Some modules are very large and frequently a program only requires a few functions or variables defined in a module. A second method for importing allows such cases to be handled efficiently: `from` module `import` function, variable, ..."
     ]
    },
    {
     "cell_type": "code",
     "collapsed": false,
     "input": [
      "from math import sqrt,pi\n",
      "\n",
      "print(pi)\n",
      "print(sqrt(9.0))"
     ],
     "language": "python",
     "metadata": {},
     "outputs": []
    },
    {
     "cell_type": "markdown",
     "metadata": {},
     "source": [
      "Notice that we did not need to use the `.` operators because this type of import does not create a new namespace for the module. Instead it imports the requested sub-set of module contents into the top-level namespace.\n",
      "\n",
      "\n",
      "\n",
      "This is both convenient and efficient for programs that use very limited functionality from a module, but should not be used in the extreme case. "
     ]
    },
    {
     "cell_type": "code",
     "collapsed": false,
     "input": [
      "# this imports *all* module contents into the current namespace\n",
      "from math import *\n",
      "\n",
      "print(exp(1.0))\n",
      "print(e)"
     ],
     "language": "python",
     "metadata": {},
     "outputs": []
    },
    {
     "cell_type": "markdown",
     "metadata": {},
     "source": [
      "This should *never* be used when developing programs, but is acceptable for interactive use of Python (to avoid needless typing). One of the reasons that this type of import should be avoided is that it reassigns the values of existing variables and functions with the same name. Such naming issues occur more frequently then you might image, but it only takes one of them to cause the beginner or experienced programming a significant headache,"
     ]
    },
    {
     "cell_type": "code",
     "collapsed": false,
     "input": [
      "# a contrived example\n",
      "e = 1.4\n",
      "exp = \"exp\"\n",
      "\n",
      "# the import reassigns the values of `e` and `exp`\n",
      "from math import *\n",
      "\n",
      "print(e)\n",
      "print(exp)"
     ],
     "language": "python",
     "metadata": {},
     "outputs": [
      {
       "output_type": "stream",
       "stream": "stdout",
       "text": [
        "2.718281828459045\n",
        "<built-in function exp>\n"
       ]
      }
     ],
     "prompt_number": 9
    },
    {
     "cell_type": "markdown",
     "metadata": {},
     "source": [
      "Now that you know how to use modules, the vast array of *standard modules* provided by Python are at your finger tips (literally). A few sample modules of interest are,\n",
      "\n",
      "* `cmath` -- mathematical functions for complex numbers.\n",
      "* `concurrent` -- execute computations concurrently using threads or processes.\n",
      "* `datetime` -- basic date and time types.\n",
      "* `html` -- helper functions for manipulating HTML.\n",
      "* `io` -- tools for working with input/output streams.\n",
      "* `pydoc` -- documentation generator and online help.\n",
      "* `tkinter` -- a basic graphical user interface (GUI) for Python.\n",
      "\n",
      "These are just a few of the standard modules ranging from relatively mundane functionality (`datetime`) to very advanced (`concurrent`, `tkinter`). For the full list see the Python module index: http://docs.python.org/release/3.3.0/py-modindex.html\n",
      "\n",
      "\n",
      "# Designing and creating your own modules\n",
      "\n",
      "\n",
      "We learned in a previous lecture that we can store and use Python code in a file with the `.py` suffix. In this section we will learn that creating a module is just as simple and we will do so inside and outside of the interactive lecture environment (iPython Notebook).\n",
      "\n",
      "Let's start with some sample code which defines two functions `convert_to_celsius()` and `above_freezing()`,"
     ]
    },
    {
     "cell_type": "code",
     "collapsed": false,
     "input": [
      "def convert_to_celsius(fahrenheit):\n",
      "    \"\"\" (number) -> float\n",
      "    Return the number of Celsius degrees equivalent to fahrenheit degrees.\n",
      "\n",
      "    >>> convert_to_celsius(75)\n",
      "    23.88888888888889\n",
      "    \"\"\"\n",
      "    return (fahrenheit - 32.0) * 5.0 / 9.0\n",
      "\n",
      "def above_freezing(celsius):\n",
      "    \"\"\" (number) -> bool\n",
      "    \n",
      "    Return True iff temperature in celsius is above freezing.\n",
      "    \n",
      "    >>> above_freezing(5.2)\n",
      "    True\n",
      "    >>> above_freezing(-2.0)\n",
      "    False\n",
      "    \"\"\"\n",
      "    return celsius > 0.0"
     ],
     "language": "python",
     "metadata": {},
     "outputs": []
    },
    {
     "cell_type": "markdown",
     "metadata": {},
     "source": [
      "Instead of executing this code within the interactive lecture environment, create a file `temperature.py` in the same directory as your lecture files and insert the code from above into it (maintaining the correct formatting). Once you have saved this file, you have created your first module!\n",
      "\n",
      "In order to use it, simply note that the name of the module is `temperature` and not `temperature.py` (the filename). The suffix is simply there to indicate that file contains Python code and not something else,"
     ]
    },
    {
     "cell_type": "code",
     "collapsed": false,
     "input": [
      "import temperature\n",
      "\n",
      "celsius = temperature.convert_to_celsius(32.5)\n",
      "temperature.above_freezing(celsius)"
     ],
     "language": "python",
     "metadata": {},
     "outputs": []
    },
    {
     "cell_type": "markdown",
     "metadata": {},
     "source": [
      "All of the things you have learned about importing modules applies to those that you write! Although we do have sufficient information to *use* existing modules, we need additional understanding to be able to write them (well). Specifically, we need to understand what happens when the Python interpreter imports a module.\n",
      "\n",
      "To illustrate this, let's make another module `experiment` by creating `experiment.py` in our current *working directory*. Cut-and-paste the code,\n",
      "\n",
      "`print(\"The panda's scientific name is \" + \"Ailuropoda melanoleuca\")`\n",
      "\n",
      "and import the module. What do you think will happen? No variables or functions are defined..."
     ]
    },
    {
     "cell_type": "code",
     "collapsed": false,
     "input": [
      "import experiment"
     ],
     "language": "python",
     "metadata": {},
     "outputs": []
    },
    {
     "cell_type": "markdown",
     "metadata": {},
     "source": [
      "The interpreter executes the code in the module when it is imported. You could include any code in the module and this would be executed on import. Try importing the module again,"
     ]
    },
    {
     "cell_type": "code",
     "collapsed": false,
     "input": [
      "import experiment"
     ],
     "language": "python",
     "metadata": {},
     "outputs": []
    },
    {
     "cell_type": "markdown",
     "metadata": {},
     "source": [
      "Nothing happens! The interpreter keeps track of what modules have been imported and does not re-execute the module's code as an optimization. This does not mean we cannot rerun the module's code, remember `imp.reload()`?"
     ]
    },
    {
     "cell_type": "code",
     "collapsed": false,
     "input": [
      "imp.reload(experiment)"
     ],
     "language": "python",
     "metadata": {},
     "outputs": []
    },
    {
     "cell_type": "markdown",
     "metadata": {},
     "source": [
      "### Module versus script mode\n",
      "\n",
      "Many times we will want to write a program that can both be imported as a module or executed directly like a script (or application). In Python this functionality is achieved through the interpreter adding a built-in variable to the module name space `__name__`. This variable is a `str` object and is assigned one of two values depending on how the module was imported:\n",
      "\n",
      "1. `__name__ = \"modulename\"` -- if the module was imported into its own namespace within an existing one (top-level or other), the `__name__` string is assigned the name of the module. For instance, in the previous example `__name__` would have the value `\"experiment\"`.\n",
      "2. `__name__ = \"__main__\"` -- if the module was executed directly such as in a script or application, the `__name__` variable is assigned a special value `\"__main__\"`.\n",
      "\n",
      "This allows the programmer to run different blocks of code depending on the context in which the module is being used,\n",
      "\n",
      "```python\n",
      "if __name__ == \"__main__\":\n",
      "    print(\"I am the main program.\")\n",
      "else:\n",
      "    print(\"Another module is importing me.\")\n",
      "```\n",
      "\n",
      "Try adding this code to the `experiment.py` file and executing it both within the interactive environment and directly through the Python interpreter,\n",
      "\n",
      "`# python experimental.py`"
     ]
    },
    {
     "cell_type": "code",
     "collapsed": false,
     "input": [
      "# we have to use imp.reload() since the module was previous imported\n",
      "imp.reload(experiment)"
     ],
     "language": "python",
     "metadata": {},
     "outputs": []
    },
    {
     "cell_type": "markdown",
     "metadata": {},
     "source": [
      "Through this procedure we may develop Python modules that are also standalone applications or, more accurately, scripts. Let's bring all of these concepts together and add some functionality to the `temperature` module we began with. Add the following code to the end of the `temperature.py` file,\n",
      "\n",
      "```python\n",
      "if __name__ == \"__main__\":\n",
      "    fahrenheit_str = input(\"Enter the temperature in degrees Fahrenheit: \") \n",
      "    fahrenheit = float(fahrenheit_str)\n",
      "    \n",
      "    celsius = convert_to_celsius(fahrenheit)\n",
      "    \n",
      "    if above_freezing(celsius):\n",
      "        print(\"It is above freezing (rejoice!).\")\n",
      "    else:\n",
      "        print(\"It is at or below freezing (rejoice!?).\")\n",
      "```\n",
      "\n",
      "Now we may use the `temperature` module in two ways: (i) as before as a module for converting temperature values and (ii) as a standalone script which tells us whether or not a temperature value (in Fahrenheit) is above freezing.\n",
      "\n",
      "`# python temperature.py`"
     ]
    },
    {
     "cell_type": "code",
     "collapsed": false,
     "input": [
      "# the `temperature` module is being imported with an existing top-level namespace\n",
      "# the code within the if statement block will not be executed\n",
      "import temperature\n",
      "\n",
      "celsius = temperature.convert_to_celsius(32.5)\n",
      "temperature.above_freezing(celsius)"
     ],
     "language": "python",
     "metadata": {},
     "outputs": []
    },
    {
     "cell_type": "markdown",
     "metadata": {},
     "source": [
      "### Designing a module\n",
      "\n",
      "Finally, it is worthwhile to discuss how to *design* a module. Always spend as much or more time thinking about your program before you begin writing the code! There are no strict guidelines on how to create a module, but the functions, variables, and objects contained in a module all have some organizational relationship. Many times this relationship is too broad and the module will have too many functions etc. In this case you can break a module up into sub-modules, but programs of this level of complexity are far beyond the scope of this course.\n",
      "\n",
      "From the point of view of an engineering or scientist using programming for simple everyday tasks, a good rule-of-thumb is that you are able to describe the functionality of a module you have developed in a few sentences."
     ]
    },
    {
     "cell_type": "markdown",
     "metadata": {},
     "source": [
      "# Exercises"
     ]
    },
    {
     "cell_type": "markdown",
     "metadata": {},
     "source": [
      "**1.** Import the <i>math</i> module, and use its functions to complete the following exercises. (You can call dir(math) to get a listing of the items in <i>math</i>"
     ]
    },
    {
     "cell_type": "markdown",
     "metadata": {},
     "source": [
      "**a.**Write an expression that produces the floor of -2.8 ."
     ]
    },
    {
     "cell_type": "code",
     "collapsed": false,
     "input": [],
     "language": "python",
     "metadata": {},
     "outputs": []
    },
    {
     "cell_type": "markdown",
     "metadata": {},
     "source": [
      "**b.** Write an expression that rounds the value of -4.3 and then produces\n",
      "the absolute value of that result."
     ]
    },
    {
     "cell_type": "code",
     "collapsed": false,
     "input": [],
     "language": "python",
     "metadata": {},
     "outputs": []
    },
    {
     "cell_type": "markdown",
     "metadata": {},
     "source": [
      "**c.** Write an expression that produces the ceiling of the sine of 34.5."
     ]
    },
    {
     "cell_type": "code",
     "collapsed": false,
     "input": [],
     "language": "python",
     "metadata": {},
     "outputs": []
    },
    {
     "cell_type": "markdown",
     "metadata": {},
     "source": [
      "**2.** In the following exercises, you will work with Python\u2019s calendar module:"
     ]
    },
    {
     "cell_type": "markdown",
     "metadata": {},
     "source": [
      "**a.** Visit the Python documentation website at http://docs.python.org/release/\n",
      "3.3.0/py-modindex.html , and look at the documentation on the calendar\n",
      "module."
     ]
    },
    {
     "cell_type": "markdown",
     "metadata": {},
     "source": [
      "**b.** Import the <i>calendar</i> module."
     ]
    },
    {
     "cell_type": "code",
     "collapsed": false,
     "input": [],
     "language": "python",
     "metadata": {},
     "outputs": []
    },
    {
     "cell_type": "markdown",
     "metadata": {},
     "source": [
      "**c.** Using the <i>help</i> function, read the description of the function <i>isleap</i>."
     ]
    },
    {
     "cell_type": "code",
     "collapsed": false,
     "input": [],
     "language": "python",
     "metadata": {},
     "outputs": []
    },
    {
     "cell_type": "markdown",
     "metadata": {},
     "source": [
      "**d.** Use <i>isleap</i> to determine the next leap year."
     ]
    },
    {
     "cell_type": "code",
     "collapsed": false,
     "input": [],
     "language": "python",
     "metadata": {},
     "outputs": []
    },
    {
     "cell_type": "markdown",
     "metadata": {},
     "source": [
      "**e.** Use <i>dir</i> to get a list of what calendar contains."
     ]
    },
    {
     "cell_type": "code",
     "collapsed": false,
     "input": [],
     "language": "python",
     "metadata": {},
     "outputs": []
    },
    {
     "cell_type": "markdown",
     "metadata": {},
     "source": [
      "**f.** Find and use a function in the calendar module to determine how many\n",
      "leap years there will be between the years 2000 and 2050, inclusive."
     ]
    },
    {
     "cell_type": "code",
     "collapsed": false,
     "input": [],
     "language": "python",
     "metadata": {},
     "outputs": []
    },
    {
     "cell_type": "markdown",
     "metadata": {},
     "source": [
      "**g.** Find and use a function in the calendar module to determine which day\n",
      "of the week July 29, 2016, will be."
     ]
    },
    {
     "cell_type": "code",
     "collapsed": false,
     "input": [],
     "language": "python",
     "metadata": {},
     "outputs": []
    },
    {
     "cell_type": "markdown",
     "metadata": {},
     "source": [
      "**3.** Create a file named exercise.py with this code inside it:"
     ]
    },
    {
     "cell_type": "code",
     "collapsed": false,
     "input": [
      "def average(num1, num2):\n",
      "\"\"\" (number, number) -> number\n",
      "Return the average of num1 and num2.\n",
      ">>> average(10,20)\n",
      "15.0\n",
      ">>> average(2.5, 3.0)\n",
      "2.75\n",
      "\"\"\"\n",
      "return num1 + num2 / 2"
     ],
     "language": "python",
     "metadata": {},
     "outputs": []
    },
    {
     "cell_type": "markdown",
     "metadata": {},
     "source": [
      "***a.*** Run exercise.py . Import doctest and run doctest.testmod() ."
     ]
    },
    {
     "cell_type": "code",
     "collapsed": false,
     "input": [],
     "language": "python",
     "metadata": {},
     "outputs": []
    },
    {
     "cell_type": "markdown",
     "metadata": {},
     "source": [
      "***b.***Both of the tests in the average function\u2019s docstring fail. Fix the code\n",
      "and rerun the tests. Repeat this procedure until the tests pass."
     ]
    },
    {
     "cell_type": "code",
     "collapsed": false,
     "input": [],
     "language": "python",
     "metadata": {},
     "outputs": []
    }
   ],
   "metadata": {}
  }
 ]
}