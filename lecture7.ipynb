{
 "metadata": {
  "name": ""
 },
 "nbformat": 3,
 "nbformat_minor": 0,
 "worksheets": [
  {
   "cells": [
    {
     "cell_type": "markdown",
     "metadata": {},
     "source": [
      "##Lecture 7\n",
      "\n",
      "The objectives of this lecture are to:\n",
      "\n",
      "1. Learn how Python handles text -- the `string` object.\n",
      "2. Printing text -- user output.\n",
      "3. Querying text -- user input."
     ]
    },
    {
     "cell_type": "markdown",
     "metadata": {},
     "source": [
      "# The `string` object\n",
      "\n",
      "Creation and manipulation of text is unavoidable when writing computer programs. One of the strengths of Python, compared to other programming languages, is that these tasks are relatively simple. For example, Python does not distinguish between a single character `'a'` and a \"string\" of characters `\"abc\"`. These are both considered strings and may be represented as values of type `str`,"
     ]
    },
    {
     "cell_type": "code",
     "collapsed": false,
     "input": [
      "char = \"a\"\n",
      "string = \"abc\"\n",
      "\n",
      "print(type(char), type(string))"
     ],
     "language": "python",
     "metadata": {},
     "outputs": [
      {
       "output_type": "stream",
       "stream": "stdout",
       "text": [
        "<class 'str'> <class 'str'>\n"
       ]
      }
     ],
     "prompt_number": 1
    },
    {
     "cell_type": "markdown",
     "metadata": {},
     "source": [
      "Subsequently, Python allows the use of either single or double quotes to create string values, as long as both are used consistently,"
     ]
    },
    {
     "cell_type": "code",
     "collapsed": false,
     "input": [
      "'This will work'\n",
      "\"This will also work\"\n",
      "\"This will not work'"
     ],
     "language": "python",
     "metadata": {},
     "outputs": [
      {
       "ename": "SyntaxError",
       "evalue": "EOL while scanning string literal (<ipython-input-2-9a5cb8d0a1c8>, line 3)",
       "output_type": "pyerr",
       "traceback": [
        "\u001b[0;36m  File \u001b[0;32m\"<ipython-input-2-9a5cb8d0a1c8>\"\u001b[0;36m, line \u001b[0;32m3\u001b[0m\n\u001b[0;31m    \"This will not work'\u001b[0m\n\u001b[0m                        ^\u001b[0m\n\u001b[0;31mSyntaxError\u001b[0m\u001b[0;31m:\u001b[0m EOL while scanning string literal\n"
       ]
      }
     ],
     "prompt_number": 2
    },
    {
     "cell_type": "markdown",
     "metadata": {},
     "source": [
      "The length of a string is not limited, other than by the memory accessible by the interpreter. The shortest string is the *empty string* and we may determine the length (in number of characters) using the built-in `len()`,"
     ]
    },
    {
     "cell_type": "code",
     "collapsed": false,
     "input": [
      "empty_string = \"\"\n",
      "not_empty_string = \"Hello!\"\n",
      "\n",
      "print(len(empty_string), len(not_empty_string))"
     ],
     "language": "python",
     "metadata": {},
     "outputs": [
      {
       "output_type": "stream",
       "stream": "stdout",
       "text": [
        "0 6\n"
       ]
      }
     ],
     "prompt_number": 4
    },
    {
     "cell_type": "markdown",
     "metadata": {},
     "source": [
      "Strings are *sequences* of characters, which allow us to do many things that we do not have the background to understand, yet. For now we will learn a sub-set of string manipulations that do not require a detailed understanding of sequences.\n",
      "\n",
      "### Operations on Strings\n",
      "\n",
      "Initially, we will learn several basic operations on strings:\n",
      "\n",
      "* Concatenation -- creating a single string out of many.\n",
      "* Repetition -- creating a single string out of multiples of another single string.\n",
      "* Conversion -- converting a string to another value and vice versa.\n",
      "\n",
      "The syntax for addition of strings is intuitive and involves the `+` operator,"
     ]
    },
    {
     "cell_type": "code",
     "collapsed": false,
     "input": [
      "\"Nikola\" + \"Tesla\""
     ],
     "language": "python",
     "metadata": {},
     "outputs": [
      {
       "metadata": {},
       "output_type": "pyout",
       "prompt_number": 2,
       "text": [
        "'NikolaTesla'"
       ]
      }
     ],
     "prompt_number": 2
    },
    {
     "cell_type": "markdown",
     "metadata": {},
     "source": [
      "Concatenation maintains the order of the original strings in the newly created one,"
     ]
    },
    {
     "cell_type": "code",
     "collapsed": false,
     "input": [
      "# I forgot a \" \"\n",
      "\"Nikola\" + \" \" + \"Tesla\""
     ],
     "language": "python",
     "metadata": {},
     "outputs": [
      {
       "metadata": {},
       "output_type": "pyout",
       "prompt_number": 1,
       "text": [
        "'Nikola Tesla'"
       ]
      }
     ],
     "prompt_number": 1
    },
    {
     "cell_type": "markdown",
     "metadata": {},
     "source": [
      "We may use the `*` operator to repeat a string an integer number of times,"
     ]
    },
    {
     "cell_type": "code",
     "collapsed": false,
     "input": [
      "\"METALLICA!\" * 10"
     ],
     "language": "python",
     "metadata": {},
     "outputs": [
      {
       "metadata": {},
       "output_type": "pyout",
       "prompt_number": 3,
       "text": [
        "'METALLICA!METALLICA!METALLICA!METALLICA!METALLICA!METALLICA!METALLICA!METALLICA!METALLICA!METALLICA!'"
       ]
      }
     ],
     "prompt_number": 3
    },
    {
     "cell_type": "markdown",
     "metadata": {},
     "source": [
      "Typically this is done for a positive integer value, but zero and negative integers are allowed but not especially useful,"
     ]
    },
    {
     "cell_type": "code",
     "collapsed": false,
     "input": [
      "\"More cowbell!\" * 0"
     ],
     "language": "python",
     "metadata": {},
     "outputs": [
      {
       "metadata": {},
       "output_type": "pyout",
       "prompt_number": 7,
       "text": [
        "''"
       ]
      }
     ],
     "prompt_number": 7
    },
    {
     "cell_type": "code",
     "collapsed": false,
     "input": [
      "\"Mighty Morphin Power Rangers\" * -10"
     ],
     "language": "python",
     "metadata": {},
     "outputs": [
      {
       "metadata": {},
       "output_type": "pyout",
       "prompt_number": 8,
       "text": [
        "''"
       ]
      }
     ],
     "prompt_number": 8
    },
    {
     "cell_type": "markdown",
     "metadata": {},
     "source": [
      "Frequently we would like to convert a string to another value or vice versa. This is accomplished using built-in functions for each type we are interested in,"
     ]
    },
    {
     "cell_type": "code",
     "collapsed": false,
     "input": [
      "number_of_cookies = 3\n",
      "\n",
      "# Wrong way! Why?\n",
      "message = \"There are \" + number_of_cookies + \" cookies.\"\n",
      "\n",
      "print (message)"
     ],
     "language": "python",
     "metadata": {},
     "outputs": [
      {
       "ename": "TypeError",
       "evalue": "Can't convert 'int' object to str implicitly",
       "output_type": "pyerr",
       "traceback": [
        "\u001b[0;31m---------------------------------------------------------------------------\u001b[0m\n\u001b[0;31mTypeError\u001b[0m                                 Traceback (most recent call last)",
        "\u001b[0;32m<ipython-input-9-c969ceaaccd8>\u001b[0m in \u001b[0;36m<module>\u001b[0;34m()\u001b[0m\n\u001b[1;32m      2\u001b[0m \u001b[0;34m\u001b[0m\u001b[0m\n\u001b[1;32m      3\u001b[0m \u001b[0;31m# Wrong way! Why?\u001b[0m\u001b[0;34m\u001b[0m\u001b[0;34m\u001b[0m\u001b[0m\n\u001b[0;32m----> 4\u001b[0;31m \u001b[0mmessage\u001b[0m \u001b[0;34m=\u001b[0m \u001b[0;34m\"There are \"\u001b[0m \u001b[0;34m+\u001b[0m \u001b[0mnumber_of_cookies\u001b[0m \u001b[0;34m+\u001b[0m \u001b[0;34m\" cookies.\"\u001b[0m\u001b[0;34m\u001b[0m\u001b[0m\n\u001b[0m\u001b[1;32m      5\u001b[0m \u001b[0;34m\u001b[0m\u001b[0m\n\u001b[1;32m      6\u001b[0m \u001b[0mprint\u001b[0m \u001b[0;34m(\u001b[0m\u001b[0mmessage\u001b[0m\u001b[0;34m)\u001b[0m\u001b[0;34m\u001b[0m\u001b[0m\n",
        "\u001b[0;31mTypeError\u001b[0m: Can't convert 'int' object to str implicitly"
       ]
      }
     ],
     "prompt_number": 9
    },
    {
     "cell_type": "code",
     "collapsed": false,
     "input": [
      "# Correct way, convert from an int to str first!\n",
      "message = \"There are \" + str(number_of_cookies) + \" cookies.\"\n",
      "\n",
      "print (message)"
     ],
     "language": "python",
     "metadata": {},
     "outputs": [
      {
       "output_type": "stream",
       "stream": "stdout",
       "text": [
        "There are 3 cookies.\n"
       ]
      }
     ],
     "prompt_number": 10
    },
    {
     "cell_type": "markdown",
     "metadata": {},
     "source": [
      "The opposite conversion can be done, as well. This is very convenient when inputing data from the user or a file, which will always string-valued,"
     ]
    },
    {
     "cell_type": "code",
     "collapsed": false,
     "input": [
      "input_string = \"4.56893\"\n",
      "\n",
      "input_value = float(input_string)\n",
      "\n",
      "print(input_value)"
     ],
     "language": "python",
     "metadata": {},
     "outputs": [
      {
       "output_type": "stream",
       "stream": "stdout",
       "text": [
        "4.56893\n"
       ]
      }
     ],
     "prompt_number": 11
    },
    {
     "cell_type": "markdown",
     "metadata": {},
     "source": [
      "This functionality is not \"smart\", the string must be directly convertable without pre-processing,"
     ]
    },
    {
     "cell_type": "code",
     "collapsed": false,
     "input": [
      "input_string = \"I want 3 cheesburgers!\"\n",
      "\n",
      "number_of_cheeseburgers = int(input_string)\n",
      "\n",
      "print(input_value)"
     ],
     "language": "python",
     "metadata": {},
     "outputs": [
      {
       "ename": "ValueError",
       "evalue": "invalid literal for int() with base 10: 'I want 3 cheesburgers!'",
       "output_type": "pyerr",
       "traceback": [
        "\u001b[0;31m---------------------------------------------------------------------------\u001b[0m\n\u001b[0;31mValueError\u001b[0m                                Traceback (most recent call last)",
        "\u001b[0;32m<ipython-input-12-b3963ecfeaa1>\u001b[0m in \u001b[0;36m<module>\u001b[0;34m()\u001b[0m\n\u001b[1;32m      1\u001b[0m \u001b[0minput_string\u001b[0m \u001b[0;34m=\u001b[0m \u001b[0;34m\"I want 3 cheesburgers!\"\u001b[0m\u001b[0;34m\u001b[0m\u001b[0m\n\u001b[1;32m      2\u001b[0m \u001b[0;34m\u001b[0m\u001b[0m\n\u001b[0;32m----> 3\u001b[0;31m \u001b[0mnumber_of_cheeseburgers\u001b[0m \u001b[0;34m=\u001b[0m \u001b[0mint\u001b[0m\u001b[0;34m(\u001b[0m\u001b[0minput_string\u001b[0m\u001b[0;34m)\u001b[0m\u001b[0;34m\u001b[0m\u001b[0m\n\u001b[0m\u001b[1;32m      4\u001b[0m \u001b[0;34m\u001b[0m\u001b[0m\n\u001b[1;32m      5\u001b[0m \u001b[0mprint\u001b[0m\u001b[0;34m(\u001b[0m\u001b[0minput_value\u001b[0m\u001b[0;34m)\u001b[0m\u001b[0;34m\u001b[0m\u001b[0m\n",
        "\u001b[0;31mValueError\u001b[0m: invalid literal for int() with base 10: 'I want 3 cheesburgers!'"
       ]
      }
     ],
     "prompt_number": 12
    },
    {
     "cell_type": "markdown",
     "metadata": {},
     "source": [
      "### Special Characters\n",
      "\n",
      "Frequently you will need to create strings that contain characters that are part of Python syntax. This creates a problem for the interpreter to interpret the string properly!,"
     ]
    },
    {
     "cell_type": "code",
     "collapsed": false,
     "input": [
      "string = \"Have you heard of the book \"Charlotte's Web\" ?\""
     ],
     "language": "python",
     "metadata": {},
     "outputs": [
      {
       "ename": "SyntaxError",
       "evalue": "invalid syntax (<ipython-input-13-4b1ed0bc5bdf>, line 1)",
       "output_type": "pyerr",
       "traceback": [
        "\u001b[0;36m  File \u001b[0;32m\"<ipython-input-13-4b1ed0bc5bdf>\"\u001b[0;36m, line \u001b[0;32m1\u001b[0m\n\u001b[0;31m    string = \"Have you heard of the book \"Charlotte's Web\" ?\"\u001b[0m\n\u001b[0m                                                  ^\u001b[0m\n\u001b[0;31mSyntaxError\u001b[0m\u001b[0;31m:\u001b[0m invalid syntax\n"
       ]
      }
     ],
     "prompt_number": 13
    },
    {
     "cell_type": "markdown",
     "metadata": {},
     "source": [
      "In this case, we want to use double quotations both to create a string and as character values within the string. When we want to use special characters as values, we must use the *escape character* which is a backslash `\\` in Python,"
     ]
    },
    {
     "cell_type": "code",
     "collapsed": false,
     "input": [
      "string = \"Have you heard of the book \\\"Charlotte's Web\\\" ?\"\n",
      "\n",
      "string\n"
     ],
     "language": "python",
     "metadata": {},
     "outputs": [
      {
       "metadata": {},
       "output_type": "pyout",
       "prompt_number": 45,
       "text": [
        "'Have you heard of the book \"Charlotte\\'s Web\" ?'"
       ]
      }
     ],
     "prompt_number": 45
    },
    {
     "cell_type": "markdown",
     "metadata": {},
     "source": [
      "When we use the escape character to represent a special character this is called an *escape sequence*. An escape sequence is effectively representing one character and many of them are related to multiline strings (next section):\n",
      "\n",
      "|**Escape Sequence**|**Description**|\n",
      "|-------------------|---------------|\n",
      "|\\'                 |single quote   |\n",
      "|\\\"                 |double quote   |\n",
      "|\\\\                 |backslash      |\n",
      "|\\t                 |tab            |\n",
      "|\\n                 |newline        |\n",
      "|\\r                 |carriage return|\n"
     ]
    },
    {
     "cell_type": "code",
     "collapsed": false,
     "input": [
      "# escape sequence for the backslash value\n",
      "len(\"\\\\\")"
     ],
     "language": "python",
     "metadata": {},
     "outputs": [
      {
       "metadata": {},
       "output_type": "pyout",
       "prompt_number": 46,
       "text": [
        "1"
       ]
      }
     ],
     "prompt_number": 46
    },
    {
     "cell_type": "markdown",
     "metadata": {},
     "source": [
      "###Multiline Strings\n",
      "\n",
      "Using the string creation syntax that you learned, you are limited to strings that span one line of text (although the length of the line is not constrained),"
     ]
    },
    {
     "cell_type": "code",
     "collapsed": false,
     "input": [
      "\"First line\n",
      "Second line\""
     ],
     "language": "python",
     "metadata": {},
     "outputs": [
      {
       "ename": "SyntaxError",
       "evalue": "EOL while scanning string literal (<ipython-input-47-264a72bea14f>, line 1)",
       "output_type": "pyerr",
       "traceback": [
        "\u001b[0;36m  File \u001b[0;32m\"<ipython-input-47-264a72bea14f>\"\u001b[0;36m, line \u001b[0;32m1\u001b[0m\n\u001b[0;31m    \"First line\u001b[0m\n\u001b[0m               ^\u001b[0m\n\u001b[0;31mSyntaxError\u001b[0m\u001b[0;31m:\u001b[0m EOL while scanning string literal\n"
       ]
      }
     ],
     "prompt_number": 47
    },
    {
     "cell_type": "markdown",
     "metadata": {},
     "source": [
      "In order to create multiline strings, you must use three sets of quotes (single or double) at the beginning and end of the string definition,"
     ]
    },
    {
     "cell_type": "code",
     "collapsed": false,
     "input": [
      "string = \"\"\"First Line\n",
      "Second Line\"\"\"\n",
      "\n",
      "string"
     ],
     "language": "python",
     "metadata": {},
     "outputs": [
      {
       "metadata": {},
       "output_type": "pyout",
       "prompt_number": 48,
       "text": [
        "'First Line\\nSecond Line'"
       ]
      }
     ],
     "prompt_number": 48
    },
    {
     "cell_type": "markdown",
     "metadata": {},
     "source": [
      "You should have noticed that Python inserted a *newline* escape sequence in between the two lines of text in the string. This escape sequence intuitively represents a new line in a string. This is an additional point of complexity that programmers must deal with, but is transparent to the user,"
     ]
    },
    {
     "cell_type": "code",
     "collapsed": false,
     "input": [
      "print(string)"
     ],
     "language": "python",
     "metadata": {},
     "outputs": [
      {
       "output_type": "stream",
       "stream": "stdout",
       "text": [
        "First Line\n",
        "Second Line\n"
       ]
      }
     ],
     "prompt_number": 49
    },
    {
     "cell_type": "markdown",
     "metadata": {},
     "source": [
      "In the past, most operating systems had their own (different) format for indicating new lines. Programmers would need to take these different formatting strings into account depending on where their program was going to be executed. Modern operating systems have converged to the \"\\n\" format for indicating a new line; Windows operating systems stil used their own formatting which is the combination escape sequence \"\\r\\n\" (??!?!).\n",
      "\n",
      "These specific details are transparent to Python programmers, which simply use the \"\\n\" escape sequence regardless of the operating system. The Python interpreter takes care of adding OS-specific formatting when printing strings!\n",
      "\n",
      "\n",
      "# Printing Text -- user output\n",
      "\n",
      "The basic user output function in Python is `print()` which you have seen used frequently throughout the course so far. In this section we will learn more about it,"
     ]
    },
    {
     "cell_type": "code",
     "collapsed": false,
     "input": [
      "help(print)"
     ],
     "language": "python",
     "metadata": {},
     "outputs": []
    },
    {
     "cell_type": "markdown",
     "metadata": {},
     "source": [
      "The `file` and `flush` keyword arguments involve concepts that are beyond this course, so for now just understand that their default values result in `print()` printing output to your screen. The `sep` argument specifies the string to insert between arguments that are to be printed,"
     ]
    },
    {
     "cell_type": "code",
     "collapsed": false,
     "input": [
      "a = 12.3\n",
      "print(1,2,3,a, sep=\"**\")\n",
      "# an example of using something other than a space as a separator\n",
      "print(1, 2, 3, sep=\", \")"
     ],
     "language": "python",
     "metadata": {},
     "outputs": [
      {
       "output_type": "stream",
       "stream": "stdout",
       "text": [
        "1**2**3**12.3\n",
        "1, 2, 3\n"
       ]
      }
     ],
     "prompt_number": 53
    },
    {
     "cell_type": "markdown",
     "metadata": {},
     "source": [
      "The `end` argument specifies the string to append after the last value,"
     ]
    },
    {
     "cell_type": "code",
     "collapsed": false,
     "input": [
      "print(\"before\")\n",
      "print(\"Hello\",end=\"\")\n",
      "print(\" World!\")"
     ],
     "language": "python",
     "metadata": {},
     "outputs": [
      {
       "output_type": "stream",
       "stream": "stdout",
       "text": [
        "before\n",
        "Hello World!\n"
       ]
      }
     ],
     "prompt_number": 55
    },
    {
     "cell_type": "markdown",
     "metadata": {},
     "source": [
      "Finally, the value arguments are either strings or a type conversion is attempted to result in a string, which are printed in order separated by `sep` ending in `end`! The arguments do not need to be of the same type!"
     ]
    },
    {
     "cell_type": "code",
     "collapsed": false,
     "input": [
      "print(print, 1, 2, \"three!\", 4, sep=\"; \")"
     ],
     "language": "python",
     "metadata": {},
     "outputs": [
      {
       "output_type": "stream",
       "stream": "stdout",
       "text": [
        "<built-in function print>; 1; 2; three!; 4\n"
       ]
      }
     ],
     "prompt_number": 56
    },
    {
     "cell_type": "code",
     "collapsed": false,
     "input": [
      "# Let's practice with a more complex example\n",
      "def convert_to_celsius(fahrenheit):\n",
      "    return (fahrenheit - 32.0) * 5.0 / 9.0\n",
      "\n",
      "value1 = 60.0\n",
      "value2 = 30.0\n",
      "value3 = 0.0\n",
      "\n",
      "# Method 1, use print to do the formatting\n",
      "print(value1, \", \", value2, \", and \", value3, \" degrees Fahrenheit are equal to \", sep=\"\", end=\"\")\n",
      "print(convert_to_celsius(value1), convert_to_celsius(value2),convert_to_celsius(value3), sep=\", \", end=\", \")\n",
      "print(\"respectively.\")\n",
      "\n",
      "# Method 2, use string manipulations\n",
      "message = str(value1) + \", \" + str(value2) + \", and \" + str(value3) + \" degrees Fahrenheit are equal to \"\n",
      "message += str(convert_to_celsius(value1)) + \", \" \n",
      "message += str(convert_to_celsius(value2)) + \", \" \n",
      "message += str(convert_to_celsius(value3)) + \", respectively.\"\n",
      "print(message)"
     ],
     "language": "python",
     "metadata": {},
     "outputs": [
      {
       "output_type": "stream",
       "stream": "stdout",
       "text": [
        "60.0, 30.0, and 0.0 degrees Fahrenheit are equal to 15.555555555555555, -1.1111111111111112, -17.77777777777778, respectively.\n",
        "60.0, 30.0, and 0.0 degrees Fahrenheit are equal to 15.555555555555555, -1.1111111111111112, -17.77777777777778, respectively.\n"
       ]
      }
     ],
     "prompt_number": 59
    },
    {
     "cell_type": "markdown",
     "metadata": {},
     "source": [
      "Both methods are tedious, but using `print()` is a less so because the type conversions are implicit.\n",
      "\n",
      "\n",
      "# Text Input -- user input\n",
      "\n",
      "The function `input()` is the most simple way to query text input from the user. Its usage is very simple, calling the function results in the interpreter waiting on input from you up until a newline (\"Enter\") character, "
     ]
    },
    {
     "cell_type": "code",
     "collapsed": false,
     "input": [
      "string = input()\n",
      "\n",
      "print(\"You typed: \", string)"
     ],
     "language": "python",
     "metadata": {},
     "outputs": [
      {
       "name": "stdout",
       "output_type": "stream",
       "stream": "stdout",
       "text": [
        "123\n"
       ]
      },
      {
       "output_type": "stream",
       "stream": "stdout",
       "text": [
        "You typed:  123\n"
       ]
      }
     ],
     "prompt_number": 60
    },
    {
     "cell_type": "markdown",
     "metadata": {},
     "source": [
      "For convenient you can supply a string as an input argument to \"prompt\" the user,"
     ]
    },
    {
     "cell_type": "code",
     "collapsed": false,
     "input": [
      "string = input(\"Input?\")\n",
      "\n",
      "print(\"You typed:\", string)"
     ],
     "language": "python",
     "metadata": {},
     "outputs": [
      {
       "name": "stdout",
       "output_type": "stream",
       "stream": "stdout",
       "text": [
        "Input?21\n"
       ]
      },
      {
       "output_type": "stream",
       "stream": "stdout",
       "text": [
        "You typed: 21\n"
       ]
      }
     ],
     "prompt_number": 61
    },
    {
     "cell_type": "markdown",
     "metadata": {},
     "source": [
      "The `input()` function always outputs a string, so if you want the user to input number data you must attempt a type conversion,"
     ]
    },
    {
     "cell_type": "code",
     "collapsed": false,
     "input": [
      "age_string = input(\"Input your age: \")\n",
      "\n",
      "age = int(age_string)\n",
      "age"
     ],
     "language": "python",
     "metadata": {},
     "outputs": [
      {
       "name": "stdout",
       "output_type": "stream",
       "stream": "stdout",
       "text": [
        "Input your age: 32\n"
       ]
      },
      {
       "metadata": {},
       "output_type": "pyout",
       "prompt_number": 63,
       "text": [
        "32"
       ]
      }
     ],
     "prompt_number": 63
    },
    {
     "cell_type": "markdown",
     "metadata": {},
     "source": [
      "# Exercises\n",
      "\n"
     ]
    },
    {
     "cell_type": "markdown",
     "metadata": {},
     "source": [
      "###PragProg Section 4.7"
     ]
    },
    {
     "cell_type": "markdown",
     "metadata": {},
     "source": [
      "**1.** What value does each of the following expressions evaluate to?"
     ]
    },
    {
     "cell_type": "code",
     "collapsed": false,
     "input": [
      "'Computer' + 'Science'"
     ],
     "language": "python",
     "metadata": {},
     "outputs": []
    },
    {
     "cell_type": "code",
     "collapsed": false,
     "input": [
      "'Darwin\\'s'"
     ],
     "language": "python",
     "metadata": {},
     "outputs": []
    },
    {
     "cell_type": "code",
     "collapsed": false,
     "input": [
      "'H2O' * 3"
     ],
     "language": "python",
     "metadata": {},
     "outputs": []
    },
    {
     "cell_type": "code",
     "collapsed": false,
     "input": [
      "'CO2' * 3\n"
     ],
     "language": "python",
     "metadata": {},
     "outputs": []
    },
    {
     "cell_type": "markdown",
     "metadata": {},
     "source": [
      "***2.*** Express each of the following phrases as Python strings using the\n",
      "appropriate type of quotation marks (single, double, or triple) and, if\n",
      "necessary, escape sequences. There is more than one correct answer for\n",
      "each of these phrases. \n",
      "a. They\u2019ll hibernate during the winter.\n",
      "\n",
      "b. \u201cAbsolutely not,\u201d he said.\n",
      "\n",
      "c. \u201cHe said, \u2018Absolutely not,\u2019\u201d recalled Mel.\n",
      "\n",
      "d. hydrogen sulfide\n",
      "\n",
      "e. left\\right"
     ]
    },
    {
     "cell_type": "code",
     "collapsed": false,
     "input": [],
     "language": "python",
     "metadata": {},
     "outputs": []
    },
    {
     "cell_type": "markdown",
     "metadata": {},
     "source": [
      "***3.*** Rewrite the following string using single or double quotes instead of triple\n",
      "quotes:"
     ]
    },
    {
     "cell_type": "code",
     "collapsed": false,
     "input": [
      "'''A\n",
      "B\n",
      "C'''"
     ],
     "language": "python",
     "metadata": {},
     "outputs": []
    },
    {
     "cell_type": "markdown",
     "metadata": {},
     "source": [
      "***4.*** Use the built-in function <i>len</i> to find the length of the empty string."
     ]
    },
    {
     "cell_type": "code",
     "collapsed": false,
     "input": [],
     "language": "python",
     "metadata": {},
     "outputs": []
    },
    {
     "cell_type": "markdown",
     "metadata": {},
     "source": [
      "***5.*** Given variables x and y , which refer to values 3 and 12.5, respectively,\n",
      "use the print function to print the following messages. When numbers\n",
      "appear in the messages, variables x and y should be used."
     ]
    },
    {
     "cell_type": "markdown",
     "metadata": {},
     "source": [
      "a. The rabbit is 3."
     ]
    },
    {
     "cell_type": "code",
     "collapsed": false,
     "input": [],
     "language": "python",
     "metadata": {},
     "outputs": []
    },
    {
     "cell_type": "markdown",
     "metadata": {},
     "source": [
      "b. The rabbit is 3 years old."
     ]
    },
    {
     "cell_type": "code",
     "collapsed": false,
     "input": [],
     "language": "python",
     "metadata": {},
     "outputs": []
    },
    {
     "cell_type": "markdown",
     "metadata": {},
     "source": [
      "c. 12.5 is average."
     ]
    },
    {
     "cell_type": "code",
     "collapsed": false,
     "input": [],
     "language": "python",
     "metadata": {},
     "outputs": []
    },
    {
     "cell_type": "markdown",
     "metadata": {},
     "source": [
      "d. 12.5 * 3"
     ]
    },
    {
     "cell_type": "code",
     "collapsed": false,
     "input": [],
     "language": "python",
     "metadata": {},
     "outputs": []
    },
    {
     "cell_type": "markdown",
     "metadata": {},
     "source": [
      "e. 12.5 * 3 is 37.5."
     ]
    },
    {
     "cell_type": "code",
     "collapsed": false,
     "input": [
      "ad"
     ],
     "language": "python",
     "metadata": {},
     "outputs": []
    },
    {
     "cell_type": "markdown",
     "metadata": {},
     "source": [
      "***6.*** What is printed by the following code?"
     ]
    },
    {
     "cell_type": "code",
     "collapsed": false,
     "input": [
      ">>> first = 'John'\n",
      ">>> last = 'Doe'\n",
      ">>> print(last + ', ' + first)"
     ],
     "language": "python",
     "metadata": {},
     "outputs": []
    },
    {
     "cell_type": "markdown",
     "metadata": {},
     "source": [
      "***7.*** Use <i>input</i> to prompt the user for a number, store the number entered as\n",
      "a float in a variable named <i>num</i> , and then print the contents of <i>num</i> ."
     ]
    },
    {
     "cell_type": "code",
     "collapsed": false,
     "input": [],
     "language": "python",
     "metadata": {},
     "outputs": []
    },
    {
     "cell_type": "markdown",
     "metadata": {},
     "source": [
      "***8.*** Complete the examples in the docstring and then write the body of the\n",
      "following function:"
     ]
    },
    {
     "cell_type": "code",
     "collapsed": false,
     "input": [
      "def repeat(s, n):\n",
      "\"\"\" (str, int) -> str\n",
      "Return s repeated n times; if n is negative, return the empty string.\n",
      ">>> repeat('yes', 4)\n",
      "'yesyesyesyes'\n",
      ">>> repeat('no', 0)\n",
      ">>> repeat('no', -2)\n",
      ">>> repeat('yesnomaybe', 3)\n",
      "\"\"\""
     ],
     "language": "python",
     "metadata": {},
     "outputs": []
    },
    {
     "cell_type": "markdown",
     "metadata": {},
     "source": [
      "***9.*** Complete the examples in the docstring and then write the body of the\n",
      "following function:"
     ]
    },
    {
     "cell_type": "code",
     "collapsed": false,
     "input": [
      "def total_length(s1, s2):\n",
      "\"\"\" (str, str) -> int\n",
      "Return the sum of the lengths of s1 and s2.\n",
      ">>> total_length('yes', 'no')\n",
      "5\n",
      ">>> total_length('yes', '')\n",
      ">>> total_length('YES!!!!', 'Noooooo')\n",
      "\"\"\""
     ],
     "language": "python",
     "metadata": {},
     "outputs": []
    }
   ],
   "metadata": {}
  }
 ]
}