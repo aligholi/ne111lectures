{
 "metadata": {
  "name": ""
 },
 "nbformat": 3,
 "nbformat_minor": 0,
 "worksheets": [
  {
   "cells": [
    {
     "cell_type": "markdown",
     "metadata": {},
     "source": [
      "##Welcome to **NE 111 Introduction to Programming for Engineers**!\n",
      "\n",
      "The objectives of this lecture are to:\n",
      "\n",
      "1. Introduce the course (see the course outline).\n",
      "2. Introduce computer programming (PracProg Chapter 1).\n",
      "3. Describe the environment and installation procedure for using the interactive notes and course exercises."
     ]
    },
    {
     "cell_type": "heading",
     "level": 1,
     "metadata": {},
     "source": [
      "I. Course Introduction"
     ]
    },
    {
     "cell_type": "markdown",
     "metadata": {},
     "source": [
      "*See [Course Outline](http://link)*"
     ]
    },
    {
     "cell_type": "heading",
     "level": 1,
     "metadata": {},
     "source": [
      "II. Introduction to Computer Programming"
     ]
    },
    {
     "cell_type": "markdown",
     "metadata": {},
     "source": [
      "Why study computer programming, or more formally, computer science? I think that the best place to start is the definition of *engineering*:\n",
      "\n",
      "*\"the application of science and mathematics by which the properties of matter and the sources of energy in nature are made useful to people\"*\n",
      "\n",
      "Engineers *apply* science and mathematics and thus you will spend quite a bit of time studying the natural sciences (biology, chemistry, physics) and mathematics (algebra, calculus). Computer science is a very recent development which has increased in significance as computing capacity (computational speed, memory, and storage) has increased. It has not been well-incorporated into primary and secondary curricula as a result of this!\n",
      "\n",
      "This course was developed to address this and ensure that for future terms all Nanotechnology engineering students have a uniform background in computer programming and basic concepts of Computer Science. You will be heavily employing these concepts, and learning new ones, throughout you undergraduate engineering experience and future career.\n",
      "\n",
      "Before we \"dive in\" to an overview of computer programming, let's see a few engineering applications of computer programming that you will find relevant to your first-year experience..."
     ]
    },
    {
     "cell_type": "heading",
     "level": 2,
     "metadata": {},
     "source": [
      "Matrix Algebra (using Python and NumPy)"
     ]
    },
    {
     "cell_type": "markdown",
     "metadata": {},
     "source": [
      "Engineers frequently use matrix algebra to compactly represent and manipulate systems of equations. A simple example of a linear system of equations is a discrete dynamical system, as follows (Hardy, Illustration 2.8):\n",
      "\n",
      "$$\n",
      "\\begin{eqnarray}\n",
      "a_{k+1} =  0.6 a_k + 0.1 d_k + 0.2 s_k\\\\\\\n",
      "d_{k+1} =  0.1 a_k + 0.7 d_k + 0.1 s_k\\\\\\\n",
      "s_{k+1} =  0.1 a_k + 0.1 d_k + 0.6 s_k\\\\\\\n",
      "\\end{eqnarray}\n",
      "$$\n",
      "where $a_k$, $d_k$, $s_k$ are the number of cars at time $t_k$ at the three locations (airport, downtown, and suburbs) of a car rental agency. This system of linear equations represents the evolution of the number of cars at each location over time. It may be compactly represented in matrix form as follows:\n",
      "$$\n",
      "\\begin{equation}\n",
      "\\left[\n",
      "\\begin{array}{c}\n",
      "a_{k+1}\\\\\\\n",
      "d_{k+1}\\\\\\\n",
      "s_{k+1}\\\\\\\n",
      "\\end{array}\n",
      "\\right]\n",
      "=\\left[\n",
      "\\begin{array}{c c c}\n",
      "0.6 & 0.1 & 0.2 \\\\\\\n",
      "0.1 & 0.7 & 0.1 \\\\\\\n",
      "0.1 & 0.1 & 0.6 \\\\\\\n",
      "\\end{array}\n",
      "\\right]\n",
      "\\left[\n",
      "\\begin{array}{c}\n",
      "a_{k}\\\\\\\n",
      "d_{k}\\\\\\\n",
      "s_{k}\\\\\\\n",
      "\\end{array}\n",
      "\\right]\n",
      "\\end{equation}\n",
      "$$\n",
      "Determing the distribution of cars at $t_{15}$ by hand is tedious, so we use a computer programming instead!"
     ]
    },
    {
     "cell_type": "code",
     "collapsed": false,
     "input": [
      "# Import numerical functionality for Python\n",
      "from numpy import *\n",
      "\n",
      "# set the precision at which numbers are displayed (not stored)\n",
      "set_printoptions(precision=2)\n",
      "\n",
      "# Initialize matrices: 1) the initial distribution and 2) the transition matrix\n",
      "u0 = matrix('100.; 50.; 10.')\n",
      "A = matrix('0.6 0.1 0.2; 0.1 0.7 0.1; 0.1 0.1 0.6')\n",
      "\n",
      "n = 15\n",
      "\n",
      "# Compute the distribution of cars after 15 timesteps\n",
      "u15 = A**n * u0\n",
      "\n",
      "# print the result\n",
      "print('At t=' + str(n) + ' the distribution of cars is:')\n",
      "print(floor(u15))"
     ],
     "language": "python",
     "metadata": {},
     "outputs": [
      {
       "output_type": "stream",
       "stream": "stdout",
       "text": [
        "At t=15 the distribution of cars is:\n",
        "[[ 5.]\n",
        " [ 6.]\n",
        " [ 4.]]\n"
       ]
      }
     ],
     "prompt_number": 2
    },
    {
     "cell_type": "markdown",
     "metadata": {},
     "source": [
      "it looks like our area has a car theft problem..."
     ]
    },
    {
     "cell_type": "heading",
     "level": 2,
     "metadata": {},
     "source": [
      "Solving a linear system (using NumPy)"
     ]
    },
    {
     "cell_type": "markdown",
     "metadata": {},
     "source": [
      "Another application of computer programming, also focusing on linear algebra, involves solving a system of linear equations:\n",
      "$$\n",
      "\\mathbf{Ax} = \\mathbf{b}\n",
      "$$\n",
      "which typically represents, approximately, a system we wish to analyze. In this example we will form an interpolant function by \"fitting\" $n$ observed data points (in time) to a polynomial function of time:\n",
      "$$\n",
      "p(t) = \\sum_{i=0}^{n-1} a_i t^i\n",
      "$$\n",
      "In this example, we measure the altitude of an airplane $f(t)$ at $5$ different points in time:\n",
      "$$\n",
      "\\begin{align}\n",
      "f(0) = 10\\\\\\\n",
      "f(0.5) = 15\\\\\\\n",
      "f(1.5) = 18\\\\\\\n",
      "f(2) = 20\\\\\\\n",
      "f(4) = 21\\\\\\\n",
      "\\end{align}\n",
      "$$\n",
      "and wish to fit this to a $4^{th}$ order polynomial. This results in a system of $5$ equations:\n",
      "$$\n",
      "\\begin{align}\n",
      "10 &=& (0)^4 a_4  &+& (0)^3 a_3& &+& (0)^2 a_2 &+& (0)^1 a_1 &+& (0)^0 a_0\\\\\\\n",
      "15 &=& (0.5)^4 a_4 &+& (0.5)^3 a_3& &+& (0.5)^2 a_2 &+& (0.5)^1 a_1 &+& (0.5)^0 a_0\\\\\\\n",
      "18 &=& (1.5)^4 a_4 &+& (1.5)^3 a_3& &+& (1.5)^2 a_2 &+& (1.5)^1 a_1 &+& (1.5)^0 a_0\\\\\\\n",
      "20 &=& (2)^4 a_4 &+& (2)^3 a_3& &+& (2)^2 a_2 &+& (2)^1 a_1 &+& (2)^0 a_0\\\\\\\n",
      "21 &=& (4)^4 a_4 &+& (4)^3 a_3& &+& (4)^2 a_2 &+& (4)^1 a_1 &+& (4)^0 a_0\\\\\\\n",
      "\\end{align}\n",
      "$$\n",
      "which is in matrix form:\n",
      "$$\n",
      "\\begin{equation}\n",
      "\\left[\n",
      "\\begin{array}{c c c c c}\n",
      "(0)^4 & (0)^3 & (0)^2 & (0)^1 & (0)^0\\\\\\\n",
      "(0.5)^4 & (0.5)^3 & (0.5)^2 & (0.5)^1 & (0.5)^0\\\\\\\n",
      "(1.5)^4 & (1.5)^3 & (1.5)^2 & (1.5)^1 & (1.5)^0\\\\\\\n",
      "(2)^4 & (2)^3 & (2)^2 & (2)^1 & (2)^0\\\\\\\n",
      "(4)^4 & (4)^3 & (4)^2 & (4)^1 & (4)^0\\\\\\\n",
      "\\end{array}\n",
      "\\right]\n",
      "\\left[\n",
      "\\begin{array}{c}\n",
      "a_4\\\\\\\n",
      "a_3\\\\\\\n",
      "a_2\\\\\\\n",
      "a_1\\\\\\\n",
      "a_0\\\\\\\n",
      "\\end{array}\n",
      "\\right]\n",
      "=\\left[\n",
      "\\begin{array}{c}\n",
      "10\\\\\\\n",
      "15\\\\\\\n",
      "18\\\\\\\n",
      "20\\\\\\\n",
      "21\\\\\\\n",
      "\\end{array}\n",
      "\\right]\n",
      "\\end{equation}\n",
      "$$\n",
      "which we may solve more easily using computer programming than by hand!"
     ]
    },
    {
     "cell_type": "code",
     "collapsed": false,
     "input": [
      "# Import numerical functionality for Python\n",
      "from numpy import *\n",
      "\n",
      "# set the precision at which numbers are displayed (not stored)\n",
      "set_printoptions(precision=2)\n",
      "\n",
      "\n",
      "# Initialize matrices\n",
      "t = matrix('0.; 0.5; 1.5; 2.; 4.')\n",
      "f = matrix('10.; 15.; 18.; 20.; 21.')\n",
      "\n",
      "n = 5\n",
      "\n",
      "# we may compute the matrix A later, so allocate an\n",
      "# array with all entries zero\n",
      "A = matrix(zeros((5,5)))\n",
      "\n",
      "# now compute the columns of A from t\n",
      "for i in range(n):\n",
      "    A[:,i] = array(t)**(n - i - 1)\n",
      "    \n",
      "# use the linear algebra to solve the linear system\n",
      "# via LU-factorization, NumPy \"wraps\" the library \n",
      "# LAPACK which is written in a low-level language (FORTRAN)\n",
      "p = linalg.solve(A,f)\n",
      "\n",
      "# print the result\n",
      "print('The polynomial of order '+ str(n-1) + ' which fits this data has coefficients:')\n",
      "print(p)"
     ],
     "language": "python",
     "metadata": {},
     "outputs": [
      {
       "output_type": "stream",
       "stream": "stdout",
       "text": [
        "The polynomial of order 4 which fits this data has coefficients:\n",
        "[[ -0.81]\n",
        " [  5.92]\n",
        " [-13.87]\n",
        " [ 15.55]\n",
        " [ 10.  ]]\n"
       ]
      }
     ],
     "prompt_number": 3
    },
    {
     "cell_type": "markdown",
     "metadata": {},
     "source": [
      "In this case, print the raw solution is not sufficient for interpreting our results. We address this in the next example through visualizing our function in the form of a plot."
     ]
    },
    {
     "cell_type": "heading",
     "level": 2,
     "metadata": {},
     "source": [
      "Defining and Plotting a Function (using NumPy and PyLab)"
     ]
    },
    {
     "cell_type": "markdown",
     "metadata": {},
     "source": [
      "Visualizing data is a key, but often neglected, task where computer programming is useful. In the previous example we solved for an interpolating function $p(t)$ which approximates another function $f(t)$ of which we have only a few data points.\n",
      "\n",
      "Now we will definite a function and plot that function in order to interpret our fit; we are particularly interested in the altitude that the airplane approaches after a \"long\" time."
     ]
    },
    {
     "cell_type": "code",
     "collapsed": false,
     "input": [
      "# this first import is not needed in that imports/data \n",
      "# from previous examples persists, but we do need to \n",
      "# import plotting functionality which does not exist\n",
      "# in NumPy\n",
      "from numpy import *\n",
      "from matplotlib import pyplot\n",
      "#%matplotlib inline  # ignore this for now\n",
      "\n",
      "# we need to define a function that evaluates polynomial\n",
      "# for a given set of coefficients, p, NumPy conveniently\n",
      "# already implements this\n",
      "fi = lambda x: polyval(p,x)\n",
      "\n",
      "# we may now define an arbritrary* number of time points\n",
      "# within the range [0,4] (interpolation) or outside of\n",
      "# the range (extrapolation)\n",
      "ti = linspace(0.,5.,1000)\n",
      "\n",
      "# now we can plot our interpolating function along with\n",
      "# the observed points\n",
      "pyplot.plot(ti,fi(ti),label='Fit')\n",
      "pyplot.plot(t,f,'o',label='Exact')\n",
      "pyplot.xlabel('Time (minutes)')\n",
      "pyplot.ylabel('Altitude (km)')\n",
      "pyplot.legend(loc='lower left')\n",
      "pyplot.show()"
     ],
     "language": "python",
     "metadata": {},
     "outputs": [],
     "prompt_number": 4
    },
    {
     "cell_type": "markdown",
     "metadata": {},
     "source": [
      "It seems as if there is a problem with our interpolating polynomial, but we will not explore this further in *this* course!"
     ]
    },
    {
     "cell_type": "heading",
     "level": 2,
     "metadata": {},
     "source": [
      "Solving an Equation Symbolicly (using SymPy)"
     ]
    },
    {
     "cell_type": "markdown",
     "metadata": {},
     "source": [
      "In this application we will use a powerful open-source (and free!) symbolic mathematics library for Python called [SymPy](http://sympy.org/en/index.html). We will start with a fourth order polynomial $f(x)$:\n",
      "$$\n",
      "f(x) = (2 x - 1)(x - 3)(x + 1)(x + 3/2)\n",
      "$$\n",
      "which is in a convenient factored form. Frequently polynomials are found in expanded form, let's use SymPy to work with that tedious case."
     ]
    },
    {
     "cell_type": "code",
     "collapsed": false,
     "input": [
      "# import symbolic math functionality for Python\n",
      "from sympy import *\n",
      "\n",
      "# create a variable\n",
      "x = symbols('x')\n",
      "\n",
      "# create the polynomial expression and expand\n",
      "f = (2.*x - 1.)*(x - 3.)*(x + 1)*(x + Rational(3.,2.))\n",
      "f = f.expand()\n",
      "\n",
      "# sample symbolic evaluations\n",
      "print('Function: ', f)\n",
      "print('Roots: ', solve(f,x))\n",
      "print('Derivative: ', diff(f,x))\n",
      "print('Integral: ', integrate(f,x))\n",
      "print('f(5) = ', f.evalf(subs={x : 5.}))\n",
      "\n",
      "print('\\n')\n",
      "\n",
      "# the polynomial example was a bit trivial, let's try \n",
      "# something more complicated\n",
      "f = sin(2.*x)*exp(-x)\n",
      "print('Function: ', f)\n",
      "print('Roots: ', solve(f,x))\n",
      "print('Derivative: ', diff(f,x))\n",
      "print('Integral: ', integrate(f,x))\n",
      "print('f(0.1) = ', f.evalf(subs={x : 0.1}))\n"
     ],
     "language": "python",
     "metadata": {},
     "outputs": []
    },
    {
     "cell_type": "markdown",
     "metadata": {},
     "source": [
      "Now that we have motivated the use of programming in Engineering, let's go over a formal introduction! "
     ]
    },
    {
     "cell_type": "heading",
     "level": 2,
     "metadata": {},
     "source": [
      "What is Programming?"
     ]
    },
    {
     "cell_type": "markdown",
     "metadata": {},
     "source": [
      "First of all, you will not simply learn \"programming\" in this course. Based upon common interpretations of what the act of programming is, you could learn this on your own without any significant guidance. The same is the case for wood carving - anyone can pick-up tools and proceed to carve wood, but what will be the result of this? Depending on one's training the result could be a beautiful sculpture or a functional piece of furniture (or a combination of both).\n",
      "\n",
      "In this course you will learn basic concepts of Computer Science, one of which is programming using [Python](http://www.python.org). A more general concept which you will learn indirectly is [computational thinking](https://www.cs.cmu.edu/afs/cs/usr/wing/www/publications/Wing06.pdf) which is guided by the following principles:\n",
      "\n",
      "* *Conceptualization* - using multiple levels of abstraction in order to solve a complex problem.\n",
      "* *Natural thought* - solve problems in a natural (human) way before programming.\n",
      "* *Everyone, everywhere* - apply this approach to the solution broadly, not just to problems that are conducive to be solved using a computer. \n",
      "\n",
      "###Programs and Programming Language\n",
      "\n",
      "A useful analogy with which to define the concept of a *computer program* is with something you do everyday -- give directions! When you communicate (written, verbal, etc) a set of instructions to someone, you have created a *program*. Your peer *executes* this program by following the instructions.\n",
      "\n",
      "There are three key attributes of a program:\n",
      "1. They are created using a set of basic operations (left, right, straight) to form individual instructions  (\"Turn left onto Weber St.\", \"Proceed straight for five miles.\", etc.).\n",
      "2. They are sequential, that is, the order in which the instructions are executed is significant.\n",
      "3. They are communicated using a language which is understandable to those who execute the program.\n",
      "\n",
      "As opposed to language intended for human/human communication (including programming), *programming languages* refer specifically to languages intended for humans to generate programs which may be executed by a computer. There are many different types of programming languages which are useful for generating different types of programs.\n",
      "\n",
      "For general engineering use, we typically use *high-level* programming languages, as opposed to low-level ones. We will learn the difference soon, but an example should provide a general idea of the difference. Here is sample code that prints the current time in Python (high-level):\n",
      "```python    \n",
      "    #!/usr/bin/python\n",
      "    import time;\n",
      "\n",
      "    localtime = time.asctime( time.localtime(time.time()) )\n",
      "    print \"Local current time :\", localtime\n",
      "```\n",
      "\n",
      "Here is a program that does the same thing in C (low-level):\n",
      "```C\n",
      "     #include <time.h>\n",
      "     #include <stdio.h>\n",
      "     \n",
      "     #define SIZE 256\n",
      "     \n",
      "     int main (void)\n",
      "     {\n",
      "       char buffer[SIZE];\n",
      "       time_t curtime;\n",
      "       struct tm *loctime;\n",
      "     \n",
      "       curtime = time (NULL);\n",
      "       loctime = localtime (&curtime);\n",
      "     \n",
      "       fputs (asctime (loctime), stdout);\n",
      "     \n",
      "       return 0;\n",
      "     }\n",
      "```\n",
      "\n",
      "What differences can you identify? Which would you prefer to use for solving engineering problems? The answer might seem obvious and directly correlate to the number of parentheses (), brackets [], and braces {} within each code block. We will shortly learn that the answer is not so obvious; each type of programming language has advantages and disadvantages.\n",
      "\n",
      "At this point the concepts of a *program* and a *programming language* should be clear. Throughout this course and for the rest of your career, you will frequently be creating programs that use a simple set of instructions to do complex tasks. You will find that all programming languages all have in common sets of instructions that fall into these three classifications:\n",
      "\n",
      "1. Arithematic - instructions for programming mathematical expressions.\n",
      "2. Iterators - instructions for repeating a subroutine (\"sub-program\").\n",
      "3. Conditionals - instructions for executing various subroutines depending on a condition (\"value is less than one\", \"value is equal to zero\").\n",
      "\n",
      "In this course we will focus on the [Python programming language](http://www.python.org) for a many reasons including:\n",
      "\n",
      "1. Python has very clear, readable syntax\n",
      "2. It has \"natural\" expression of procedural code\n",
      "3. It has extensive standard libraries and third party modules for virtually every task\n",
      "4. It allows extensions and modules easily written in C, C++ and easy incorporation of FORTRAN routines.\n",
      "\n",
      "Python is an excellent programming language for both teaching and everyday programming. You will find it much easier to learn another programming language once you know the fundamentals of Python!\n",
      "\n",
      "### Programming Bugs\n",
      "\n",
      "A \"bug\" in a program refers to a mistake made in its creation. Execution of a programs with *bugs* tends result in a combination of the following three things:\n",
      "\n",
      "* a system error or failure mode (like when you computer \"crashes\").\n",
      "* an incorrect result (2+2=5).\n",
      "* a correct result!\n",
      "\n",
      "You will inevitably introduce bugs into your code, so will learn later in the course how to prevent (design), identify (testing), and fix them when they occur."
     ]
    },
    {
     "cell_type": "heading",
     "level": 1,
     "metadata": {},
     "source": [
      "II. NE111 Computing Environment"
     ]
    },
    {
     "cell_type": "markdown",
     "metadata": {},
     "source": [
      "We will use a homogeneous computing environment to simplify delivery of the course. The majority of scientific computing is performed using an operating system (OS) that conforms to a set of standards called [POSIX](http://en.wikipedia.org/wiki/POSIX). While the OS that your are currently using might conform to this standard, the software versions and configuration are highly variable. To simplify things, we will use a cross-platform program called a [virtualizer](https://www.virtualbox.org/manual/ch01.html#idp52932560) so that you may execute a \"guest\" POSIX-compliant operating system within your existing OS (the \"host\").\n",
      "\n",
      "We will be using a POSIX-compliant OS that is free and open-source (FOSS); it is called [Linux](http://en.wikipedia.org/wiki/Linux). There are many different distributions of Linux available, a consequence of Linux being FOSS, and we will use one of the more user-friendly distributions called Ubuntu (version 14.04).\n",
      "\n",
      "The USB flash drive you have been provided with has the virtualizer [VirtualBox](https://www.virtualbox.org/wiki/VirtualBox) installed on it. The virtual disk image (VDI) that we will be using can be loaded directly from the flash drive. You have the option of using either the virtual machine on the flash drive and/or [installing the VirtualBox](https://www.virtualbox.org/wiki/Downloads) and setting up the VDI on your own computer. If you don't want to set up the virtual machine on your own computer, skip to the <a href='#configuration'>configuration section</a> of the instructions. If you would like to install the virtual machine, continue reading."
     ]
    },
    {
     "cell_type": "heading",
     "level": 2,
     "metadata": {},
     "source": [
      "Virtual Machine Setup"
     ]
    },
    {
     "cell_type": "markdown",
     "metadata": {},
     "source": [
      "Once you have installed VirtualBox, you will need to set up the virtual machine. But first, in order to use Python on your guest computer, you must [install](https://www.python.org/download) Python on your host computer. We will be using Python 3."
     ]
    },
    {
     "cell_type": "markdown",
     "metadata": {},
     "source": [
      "1. Click [here](https://ne111.uwaterloo.ca/help.html#quick_links) to download the .ova file. This is a compressed version of the .vdi (virtual disk image) file that is your virtual machine. We will be using VirtualBox to extract the VDI and use this file as a virtual machine.\n",
      "2. Open the VirtualBox application. In the top left corner of the VirtualBox Manager, click File and select \"Import Appliance...\".  \n",
      "<img src='files/./images/lecture1/Virtual Machine Setup/ImportAppliance.PNG'>\n",
      "\n",
      "3. Browse your files and select the .ova file you downloaded in step 1. Click Next.\n",
      "4. Click Import. You will have to wait several minutes for this step of the process to be completed.\n",
      "5. Select your newly created virtual machine in the sidebar on the left of the VirtualBox Manager and click Start in the top left corner in order to \"turn on\" your virtual machine. The username is ne111 and password is Nano19, which we will change later.  \n",
      "<img src='files/./images/lecture1/Virtual Machine Setup/Start.png'>\n"
     ]
    },
    {
     "cell_type": "markdown",
     "metadata": {},
     "source": [
      "##<a id='configuration'></a>Configuration of Virtual Machine"
     ]
    },
    {
     "cell_type": "markdown",
     "metadata": {},
     "source": [
      "###Installation of Python Libraries\n",
      "\n",
      "Now that we have the Ubuntu virtual machine up and running, we will need to install several additional libraries and packages that are specific to this course. Installation and removal of software is extremely simple in most Linux distributions (compared to other OSs).\n",
      "\n",
      "1. Press Ctrl + Alt + T in order to open the terminal. The terminal in any computer is where the user can communicate with the computer. It allows you to input data and commands into the computer and displays the resulting output. Linux users often use the terminal to install software.\n",
      "2. First, let's install Python modules. A module is a .py file consisting of Python code.\n",
      "    1. In the terminal, type `sudo apt-get install python3-numpy`. Press the Enter/Return key.\n",
      "        1. `sudo:` This command is short for \"superuser do\". Since you're installing software, and thereby making administrative changes to the user account, you have to prove that you are an administrator by providing the password (*Nano19*).\n",
      "        2. `apt-get install:` This command is used for installing software.\n",
      "        3. `python3-numpy:` *NumPy* is a module in Python. It contains Python code used for computation.\n",
      "    2. You will be prompted for your password. Type it in and press Enter/Return.\n",
      "    3. You will see code running as the operating system installs and configures everything for you. When you're asked if you want to continue, press the Y key.\n",
      "    4. Once the installation process is complete, type in `sudo apt-get install python3-scipy`. Because you've already entered your password for the first installation, you will not be prompted for your password again until you exit the Terminal. When asked if you want to continue, press the Y key.\n",
      "    5. Using the same procedure as before, install the *matplotlib* module.\n",
      "3. Now let's install iPython Notebook. We can do this the same way as before by typing in `sudo apt-get install ipython3-notebook`, but let's do it another way.\n",
      "    1. In the terminal, type in `whoami`. The terminal will return that you are the user `ne111`. \n",
      "    2. Type `sudo -s`. You will be prompted for your password. Type it and press the Enter/Return key. Notice how `ne111@ne111-VirtualBox:~$` has now become `root@ne111-VirtualBox:~#`.\n",
      "    3. Type in `whoami` again. This time, it will return that you are `root`, which means that you are an administrator and therefore have access to more commands.\n",
      "    4. Now you can execute administrative commands without typing in `sudo` at the beginning of each command. Try it:  \n",
      "    type in `apt-get install ipython3-notebook`.\n",
      "    5. To no longer act as `root`, type `exit`.  \n",
      "    <img src='files/./images/lecture1/Root.PNG'>"
     ]
    },
    {
     "cell_type": "markdown",
     "metadata": {},
     "source": [
      "###Opening iPython Notebook\n",
      "\n",
      "1. Open a new terminal. When you first open the terminal, you are in the Home (/home/ne111/) directory, which is represented by the ~ sign. When you first open the Files application, you will be in the Home directory.\n",
      "2. Create a folder called *lectures*: in the terminal type `mkdir lectures`. Open the Files application to see your new folder.  \n",
      "    >`mkdir:`short for *make directory*. The command is entered in the folder where you wish to create the directory and is followed by the name of the directory you want to create.\n",
      "3. Now you can [download](https://ne111.uwaterloo.ca/lectures.html) lectures into this folder.\n",
      "4. You must launch iPython Notebook from the directory where your files are stored. So to open it from your *lectures* folder, in the terminal type in `cd lectures`. You will see that now instead of being in the ~ directory, you are now in the `~/lectures` directory.\n",
      "    >`cd:` short for *change directory*. The command is followed by the name of a directory **found in your current working directory** that you want to change to.\n",
      "5. To lauch iPython Notebook, simply type in `ipython3 notebook` in the terminal when you are in your *lectures* folder. This will open the iPython Dashboard, where you will see a list of all of the notebooks in the directory you launched iPython Notebook from."
     ]
    },
    {
     "cell_type": "markdown",
     "metadata": {},
     "source": [
      "###Setting Up Shared Folders\n",
      "\n",
      "VirtualBox allows you to share folders between your virtual hard drive and your real computer. You can open these files and even write them to the folder from either machine. You can have as many shared folders as you like. It is strongly recommended that you place backup copies of all of the files on your virtual machine in a shared folder so that if anything happens to your VM, you have copies on your host computer.\n",
      "\n",
      "1. In the terminal, type in `sudo usermod -a -G vboxsf ne111` and press the Enter/Return key.\n",
      "2. You will be prompted to enter your password. Once you enter your password, you must reboot your virtual machine in order for the changes to be processed.\n",
      "3. Once you've rebooted, click Machine > Settings in the menu bar at the top of the window.\n",
      "4. Under the Shared Folders tab, click the Add Folder button to create a new folder.\n",
      "5. Name your folder and select where on your *real hard drive* you would like to keep it. The folder you select under Folder Path will be your shared folder (i.e. create a new folder if you don't want one of your existing folders on your hard drive to be shared). Select Auto-mount and Make Permanent. **Note: It's strongly recommended that the name of your folder (and all other files and folders) not have spaces in it.**  \n",
      "<img src=\"files/./images/lecture1/Shared Folders/SharedFolders.png\">\n",
      "\n",
      "6. Reboot your VM once again.\n",
      "7. To open your folder in your VM, open the Files application by clicking on it in the sidebar on the left. Under Devices, click Computer and open the Media folder, where you will find your shared folder with the name *sf_yourfoldername*.  \n",
      "<img src=\"files/./images/lecture1/Shared Folders/Media Directory.PNG\">"
     ]
    },
    {
     "cell_type": "markdown",
     "metadata": {},
     "source": [
      "###Snapshots\n",
      "\n",
      "With snapshots, you can save a particular state of a virtual machine for later use. At any later time, you can revert to that state, even though you may have changed the VM considerably since then. It's recommended that you take snapshots after any major change you make to your VM to avoid losing files and configurations if you choose to make any further changes.\n",
      "\n",
      "You can see the snapshots of a VM in the VirtualBox Manager by first selecting your machine in the left sidebar and then clicking on the Snapshots button in the top right corner. Until you take a snapshot of the machine, the list of snapshots will be empty except for the *Current state* which represents the \"now\" point in the lifetime of the VM.\n",
      "\n",
      "<img src=\"files/./images/lecture1/Snapshots/Snapshot.PNG\">\n",
      "\n",
      "To take a snapshot, click the camera icon at the top of the Snapshot menu bar. Give your snapshot a name. You may also include a description of the snapshot to later remind you of its state.\n",
      "\n",
      "Once your snapshot has been taken, the *Current state* of your VM will be viewed as separate from your snapshot. You can take as many snapshots as you like.\n",
      "\n",
      "You can also take a snapshot while in your VM. If your VM is currently running, select Take snapshot from the Machine pull-down menu of the window.\n",
      "\n",
      "<img src=\"files/./images/lecture1/Snapshots/Snapshot in VM.png\">\n",
      "\n",
      "You can restore a snapshot by right clicking on it in the list of snapshots in the VirtualBox Manager. By restoring a snapshot you go back (or forward) in time: the current state of the machine is lost and the machine is restored to the exact state it was in when the snapshot was taken.\n",
      "\n",
      "####**NOTE: Restoring a snapshot will affect the virtual hard drives that are connected to your VM, as the entire state of the virtual hard drive is reverted as well. This means that all files that have been created since the snapshot and all other changes *will be lost*. To avoid losing files and configurations, take snapshots often and create a new snapshot of the current state before restoring.**"
     ]
    },
    {
     "cell_type": "markdown",
     "metadata": {},
     "source": [
      "###Changing Password\n",
      "\n",
      "1. In the terminal type in `passwd`.\n",
      "2. You will be asked to enter your current password (*Nano19*). Type it and press Enter/Return.\n",
      "3. When prompted, type in your new password and press Enter/Return.\n",
      "4. Type in your new password again when prompted and press Enter/Return."
     ]
    },
    {
     "cell_type": "markdown",
     "metadata": {},
     "source": [
      "**If you have trouble with any of the steps, please go see one of the TAs at your earliest convenience. There are two optional lab sessions a week during which TAs will be available to personally assist you, when needed.**\n",
      "\n",
      "In the next lecture we will start using our new computing environment to work with lecture notes *interactively* and get started on our weekly exercises!"
     ]
    }
   ],
   "metadata": {}
  }
 ]
}